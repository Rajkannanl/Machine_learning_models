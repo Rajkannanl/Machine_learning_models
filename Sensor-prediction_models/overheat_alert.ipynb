{
 "cells": [
  {
   "cell_type": "code",
   "execution_count": 2,
   "id": "6bf78d55",
   "metadata": {},
   "outputs": [
    {
     "name": "stdout",
     "output_type": "stream",
     "text": [
      "   temperature  minute  prev_temp  temp_diff  overheat_alert\n",
      "0        25.00       0      25.00       0.00               0\n",
      "1        26.38       1      25.00       1.38               0\n",
      "2        26.38       2      26.38       0.00               0\n",
      "3        27.21       3      26.38       0.83               0\n",
      "4        27.72       4      27.21       0.51               0\n"
     ]
    },
    {
     "name": "stderr",
     "output_type": "stream",
     "text": [
      "C:\\Users\\arthe\\AppData\\Local\\Temp\\ipykernel_15760\\997224342.py:17: FutureWarning: Series.fillna with 'method' is deprecated and will raise in a future version. Use obj.ffill() or obj.bfill() instead.\n",
      "  df['prev_temp'] = df['temperature'].shift(1).fillna(method='bfill')\n"
     ]
    }
   ],
   "source": [
    "import numpy as np\n",
    "import pandas as pd\n",
    "\n",
    "def generate_temp_data(minutes=500):\n",
    "    np.random.seed(0)\n",
    "    base_temp = 25\n",
    "    temp = [base_temp]\n",
    "\n",
    "    for _ in range(minutes):\n",
    "        noise = np.random.normal(0, 0.5)\n",
    "        change = np.random.choice( [0.1, 0.2, -0.1, -0.2, 0.5, -0.5, 1, -1],p=[0.15, 0.15, 0.15, 0.15, 0.1, 0.1, 0.1, 0.1])\n",
    "        next_temp = temp[-1] + change + noise\n",
    "        temp.append(round(next_temp, 2))\n",
    "\n",
    "    df = pd.DataFrame({'temperature': temp})\n",
    "    df['minute'] = df.index\n",
    "    df['prev_temp'] = df['temperature'].shift(1).fillna(method='bfill')\n",
    "    df['temp_diff'] = df['temperature'] - df['prev_temp']\n",
    "    df['overheat_alert'] = (df['temperature'] > 30).astype(int)\n",
    "    return df\n",
    "\n",
    "df = generate_temp_data()\n",
    "print(df.head())\n"
   ]
  },
  {
   "cell_type": "code",
   "execution_count": 3,
   "id": "8e4a0bf2",
   "metadata": {},
   "outputs": [
    {
     "name": "stdout",
     "output_type": "stream",
     "text": [
      "<class 'pandas.core.frame.DataFrame'>\n",
      "RangeIndex: 501 entries, 0 to 500\n",
      "Data columns (total 5 columns):\n",
      " #   Column          Non-Null Count  Dtype  \n",
      "---  ------          --------------  -----  \n",
      " 0   temperature     501 non-null    float64\n",
      " 1   minute          501 non-null    int64  \n",
      " 2   prev_temp       501 non-null    float64\n",
      " 3   temp_diff       501 non-null    float64\n",
      " 4   overheat_alert  501 non-null    int64  \n",
      "dtypes: float64(3), int64(2)\n",
      "memory usage: 19.7 KB\n"
     ]
    }
   ],
   "source": [
    "df.info()"
   ]
  },
  {
   "cell_type": "code",
   "execution_count": 4,
   "id": "da8efd2d",
   "metadata": {},
   "outputs": [
    {
     "name": "stdout",
     "output_type": "stream",
     "text": [
      "Accuracy: 0.9900990099009901\n"
     ]
    },
    {
     "name": "stderr",
     "output_type": "stream",
     "text": [
      "C:\\Users\\arthe\\AppData\\Local\\Temp\\ipykernel_15760\\2684710677.py:4: FutureWarning: Series.fillna with 'method' is deprecated and will raise in a future version. Use obj.ffill() or obj.bfill() instead.\n",
      "  df['future_temp'] = df['temperature'].shift(-5).fillna(method='ffill')\n"
     ]
    }
   ],
   "source": [
    "from sklearn.ensemble import RandomForestClassifier\n",
    "from sklearn.model_selection import train_test_split\n",
    "\n",
    "df['future_temp'] = df['temperature'].shift(-5).fillna(method='ffill')\n",
    "df['future_alert'] = (df['future_temp'] > 30).astype(int)\n",
    "\n",
    "X = df[['temperature', 'prev_temp', 'temp_diff']]\n",
    "y = df['future_alert']\n",
    "\n",
    "X_train, X_test, y_train, y_test = train_test_split(X, y, test_size=0.2, random_state=42)\n",
    "model = RandomForestClassifier()\n",
    "model.fit(X_train, y_train)\n",
    "\n",
    "print(\"Accuracy:\", model.score(X_test, y_test))"
   ]
  },
  {
   "cell_type": "code",
   "execution_count": 11,
   "id": "2c8add5d",
   "metadata": {},
   "outputs": [
    {
     "name": "stdout",
     "output_type": "stream",
     "text": [
      "🔁 Starting real-time prediction with potential spikes...\n",
      "\n",
      "[07:59:47] Temp: 27.30°C | Δ: 1.30 → ✅ Status: Normal.\n",
      "[07:59:49] Temp: 27.79°C | Δ: 0.49 → ✅ Status: Normal.\n",
      "[07:59:51] Temp: 27.84°C | Δ: 0.05 → ✅ Status: Normal.\n",
      "[07:59:53] Temp: 27.18°C | Δ: -0.66 → ✅ Status: Normal.\n",
      "[07:59:55] Temp: 32.95°C | Δ: 5.77 → ⚠️ ALERT: Overheating expected soon!\n",
      "[07:59:57] Temp: 31.78°C | Δ: -1.17 → ✅ Status: Normal.\n",
      "[07:59:59] Temp: 31.92°C | Δ: 0.14 → ⚠️ ALERT: Overheating expected soon!\n",
      "[08:00:01] Temp: 31.91°C | Δ: -0.01 → ⚠️ ALERT: Overheating expected soon!\n",
      "[08:00:03] Temp: 37.83°C | Δ: 5.92 → ⚠️ ALERT: Overheating expected soon!\n",
      "[08:00:05] Temp: 38.01°C | Δ: 0.18 → ⚠️ ALERT: Overheating expected soon!\n",
      "[08:00:07] Temp: 38.01°C | Δ: 0.00 → ⚠️ ALERT: Overheating expected soon!\n",
      "[08:00:09] Temp: 38.03°C | Δ: 0.02 → ⚠️ ALERT: Overheating expected soon!\n",
      "[08:00:11] Temp: 43.99°C | Δ: 5.96 → ⚠️ ALERT: Overheating expected soon!\n",
      "[08:00:13] Temp: 43.49°C | Δ: -0.50 → ⚠️ ALERT: Overheating expected soon!\n"
     ]
    }
   ],
   "source": [
    "import time\n",
    "import numpy as np\n",
    "import pandas as pd\n",
    "from datetime import datetime\n",
    "import warnings\n",
    "warnings.filterwarnings(\"ignore\")\n",
    "\n",
    "# Simulated Real-Time Input with Spikes\n",
    "def simulate_next_temp(current_temp, step):\n",
    "    # Every 4th step (i.e., ~2 mins), simulate a possible spike\n",
    "    if step % 4 == 0 and step != 0:\n",
    "        return current_temp + np.random.uniform(4, 6)  # spike: +4 to +6 °C\n",
    "    else:\n",
    "        change = np.random.choice(\n",
    "            [0.1, 0.2, -0.1, -0.2, 0.5, -0.5, 1, -1],\n",
    "            p=[0.15, 0.15, 0.15, 0.15, 0.1, 0.1, 0.1, 0.1]\n",
    "        )\n",
    "        noise = np.random.normal(0, 0.4)\n",
    "        return current_temp + change + noise\n",
    "\n",
    "# Initial temperature\n",
    "current_temp = 26.0\n",
    "\n",
    "print(\"🔁 Starting real-time prediction with potential spikes...\\n\")\n",
    "\n",
    "for step in range(14):  # 14 readings = 7 minutes\n",
    "    # Generate new reading\n",
    "    next_temp = round(simulate_next_temp(current_temp, step), 2)\n",
    "    prev_temp = current_temp\n",
    "    temp_diff = next_temp - prev_temp\n",
    "    current_temp = next_temp\n",
    "\n",
    "    # Model input\n",
    "    input_data = [[next_temp, prev_temp, temp_diff]]\n",
    "\n",
    "    # Predict (Assumes model already trained)\n",
    "    prediction = model.predict(input_data)[0]  # 'model' should be pre-trained\n",
    "\n",
    "    # Display\n",
    "    timestamp = datetime.now().strftime(\"%H:%M:%S\")\n",
    "    print(f\"[{timestamp}] Temp: {next_temp:.2f}°C | Δ: {temp_diff:.2f} → \", end='')\n",
    "    if prediction == 1:\n",
    "        print(\"⚠️ ALERT: Overheating expected soon!\")\n",
    "    else:\n",
    "        print(\"✅ Status: Normal.\")\n",
    "\n",
    "    time.sleep(2)  # For quick testing. Change to 30 for real-time pacing\n"
   ]
  }
 ],
 "metadata": {
  "kernelspec": {
   "display_name": "Python 3",
   "language": "python",
   "name": "python3"
  },
  "language_info": {
   "codemirror_mode": {
    "name": "ipython",
    "version": 3
   },
   "file_extension": ".py",
   "mimetype": "text/x-python",
   "name": "python",
   "nbconvert_exporter": "python",
   "pygments_lexer": "ipython3",
   "version": "3.10.11"
  }
 },
 "nbformat": 4,
 "nbformat_minor": 5
}
