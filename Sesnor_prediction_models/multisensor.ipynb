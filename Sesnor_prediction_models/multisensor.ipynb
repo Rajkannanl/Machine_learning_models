{
 "cells": [
  {
   "cell_type": "markdown",
   "id": "29db140c",
   "metadata": {},
   "source": [
    "Simulating multi sensor data"
   ]
  },
  {
   "cell_type": "code",
   "execution_count": 1,
   "id": "50932a1e",
   "metadata": {},
   "outputs": [],
   "source": [
    "import numpy as np\n",
    "import pandas as pd\n",
    "\n",
    "def generate_smart_failure_data(minutes=500):\n",
    "    np.random.seed(42)\n",
    "    temp = [25]\n",
    "    hum = [40]\n",
    "    vib = [0.02]\n",
    "    power = [1.0]\n",
    "\n",
    "    failure_risk = []\n",
    "\n",
    "    for i in range(minutes):\n",
    "        # Evolve sensors\n",
    "        t = temp[-1] + np.random.normal(0, 0.5)\n",
    "        h = hum[-1] + np.random.normal(0, 1)\n",
    "        v = max(0, vib[-1] + np.random.normal(0, 0.01))\n",
    "        p = power[-1] + np.random.normal(0, 0.02)\n",
    "\n",
    "        # Append\n",
    "        temp.append(round(t, 2))\n",
    "        hum.append(round(h, 2))\n",
    "        vib.append(round(v, 3))\n",
    "        power.append(round(p, 3))\n",
    "\n",
    "        # Define failure RISK probabilistically (not with thresholds)\n",
    "        # Higher risk if multiple sensors are slightly abnormal\n",
    "        prob_failure = (\n",
    "            0.05 +                # base risk\n",
    "            0.01 * max(0, t - 27) +\n",
    "            0.01 * max(0, h - 50) +\n",
    "            0.5  * (v > 0.05) +   # spikes in vibration matter more\n",
    "            0.2  * (p > 1.1)\n",
    "        )\n",
    "        risk = np.random.rand() < prob_failure  # draw 1 with calculated probability\n",
    "        failure_risk.append(int(risk))\n",
    "\n",
    "    df = pd.DataFrame({\n",
    "        'temperature': temp[1:],\n",
    "        'humidity': hum[1:],\n",
    "        'vibration': vib[1:],\n",
    "        'power_drift': power[1:],\n",
    "        'failure_risk': failure_risk\n",
    "    })\n",
    "\n",
    "    df['temp_diff'] = df['temperature'].diff().fillna(0)\n",
    "    df['vib_diff'] = df['vibration'].diff().fillna(0)\n",
    "    return df\n"
   ]
  },
  {
   "cell_type": "markdown",
   "id": "97b2de44",
   "metadata": {},
   "source": [
    "Model training"
   ]
  },
  {
   "cell_type": "code",
   "execution_count": 2,
   "id": "702cf04f",
   "metadata": {},
   "outputs": [
    {
     "name": "stdout",
     "output_type": "stream",
     "text": [
      "📈 Model trained. Accuracy: 0.87\n"
     ]
    }
   ],
   "source": [
    "df = generate_smart_failure_data()\n",
    "\n",
    "features = ['temperature', 'humidity', 'vibration', 'power_drift', 'temp_diff', 'vib_diff']\n",
    "X = df[features]\n",
    "y = df['failure_risk']\n",
    "\n",
    "from sklearn.ensemble import RandomForestClassifier\n",
    "from sklearn.model_selection import train_test_split\n",
    "\n",
    "X_train, X_test, y_train, y_test = train_test_split(X, y, test_size=0.2, random_state=42)\n",
    "\n",
    "model = RandomForestClassifier()\n",
    "model.fit(X_train, y_train)\n",
    "\n",
    "print(f\"📈 Model trained. Accuracy: {model.score(X_test, y_test):.2f}\")\n"
   ]
  },
  {
   "cell_type": "markdown",
   "id": "e5014477",
   "metadata": {},
   "source": [
    "Real time prediction"
   ]
  },
  {
   "cell_type": "code",
   "execution_count": 4,
   "id": "5c131213",
   "metadata": {},
   "outputs": [
    {
     "name": "stdout",
     "output_type": "stream",
     "text": [
      "🔁 Starting real-time smart failure prediction...\n",
      "\n",
      "[16:54:49] Temp: 25.83°C | Hum: 44.4% | Vib: 0.009g | Power Drift: 0.983 | ✅  Status: Normal.\n",
      "[16:54:51] Temp: 27.30°C | Hum: 45.6% | Vib: 0.000g | Power Drift: 0.957 | ✅  Status: Normal.\n",
      "[16:54:53] Temp: 27.54°C | Hum: 46.2% | Vib: 0.005g | Power Drift: 0.952 | ✅  Status: Normal.\n",
      "[16:54:55] Temp: 27.48°C | Hum: 46.5% | Vib: 0.006g | Power Drift: 0.908 | ✅  Status: Normal.\n",
      "[16:54:57] Temp: 32.37°C | Hum: 55.7% | Vib: 0.308g | Power Drift: 1.268 | ⚠️  FAILURE RISK detected!\n",
      "[16:54:59] Temp: 32.55°C | Hum: 55.4% | Vib: 0.317g | Power Drift: 1.278 | ✅  Status: Normal.\n",
      "[16:55:01] Temp: 32.76°C | Hum: 56.0% | Vib: 0.338g | Power Drift: 1.255 | ⚠️  FAILURE RISK detected!\n",
      "[16:55:03] Temp: 33.00°C | Hum: 55.0% | Vib: 0.344g | Power Drift: 1.237 | ⚠️  FAILURE RISK detected!\n",
      "[16:55:05] Temp: 37.79°C | Hum: 64.7% | Vib: 0.654g | Power Drift: 1.555 | ⚠️  FAILURE RISK detected!\n",
      "[16:55:07] Temp: 37.17°C | Hum: 64.8% | Vib: 0.647g | Power Drift: 1.530 | ⚠️  FAILURE RISK detected!\n",
      "[16:55:09] Temp: 37.06°C | Hum: 64.5% | Vib: 0.671g | Power Drift: 1.539 | ⚠️  FAILURE RISK detected!\n",
      "[16:55:11] Temp: 36.37°C | Hum: 63.9% | Vib: 0.681g | Power Drift: 1.581 | ⚠️  FAILURE RISK detected!\n",
      "[16:55:13] Temp: 40.58°C | Hum: 72.0% | Vib: 1.000g | Power Drift: 1.889 | ⚠️  FAILURE RISK detected!\n",
      "[16:55:15] Temp: 40.15°C | Hum: 72.6% | Vib: 0.974g | Power Drift: 1.889 | ⚠️  FAILURE RISK detected!\n"
     ]
    }
   ],
   "source": [
    "import time\n",
    "import numpy as np\n",
    "import pandas as pd\n",
    "from datetime import datetime\n",
    "import warnings\n",
    "warnings.filterwarnings(\"ignore\")\n",
    "\n",
    "# Simulate one reading step with realistic anomalies\n",
    "def simulate_sensor_reading(prev_temp, prev_hum, prev_vib, prev_power, step):\n",
    "    # Inject spikes every 4 steps (~2 mins)\n",
    "    spike = (step % 4 == 0 and step != 0)\n",
    "\n",
    "    temp = prev_temp + (np.random.normal(0, 0.5) + (5 if spike else 0))\n",
    "    hum = prev_hum + (np.random.normal(0, 1.0) + (10 if spike else 0))\n",
    "    vib = max(0, prev_vib + np.random.normal(0, 0.01) + (0.3 if spike else 0))\n",
    "    power = prev_power + np.random.normal(0, 0.02) + (0.3 if spike else 0)\n",
    "\n",
    "    temp_diff = temp - prev_temp\n",
    "    vib_diff = vib - prev_vib\n",
    "\n",
    "    return round(temp, 2), round(hum, 2), round(vib, 3), round(power, 3), round(temp_diff, 2), round(vib_diff, 3)\n",
    "\n",
    "# Initialize values\n",
    "current_temp = 26.0\n",
    "current_hum = 45.0\n",
    "current_vib = 0.02\n",
    "current_power = 1.0\n",
    "\n",
    "print(\"🔁 Starting real-time smart failure prediction...\\n\")\n",
    "\n",
    "# Run for 7 minutes (14 readings)\n",
    "for step in range(14):\n",
    "    # Generate new data point\n",
    "    t, h, v, p, td, vd = simulate_sensor_reading(current_temp, current_hum, current_vib, current_power, step)\n",
    "\n",
    "    # Update for next iteration\n",
    "    current_temp, current_hum, current_vib, current_power = t, h, v, p\n",
    "\n",
    "    # Predict failure risk (make sure model is trained already)\n",
    "    input_data = [[t, h, v, p, td, vd]]\n",
    "    prediction = model.predict(input_data)[0]  # model should be trained using previous cell\n",
    "\n",
    "    # Display result\n",
    "    timestamp = datetime.now().strftime(\"%H:%M:%S\")\n",
    "    print(f\"[{timestamp}] Temp: {t:.2f}°C | Hum: {h:.1f}% | Vib: {v:.3f}g | Power Drift: {p:.3f} | \", end=\"\")\n",
    "    if prediction == 1:\n",
    "        print(\"⚠️  FAILURE RISK detected!\")\n",
    "    else:\n",
    "        print(\"✅  Status: Normal.\")\n",
    "\n",
    "    time.sleep(2)  # Use 30 for actual real-time pacing\n"
   ]
  }
 ],
 "metadata": {
  "kernelspec": {
   "display_name": "Python 3",
   "language": "python",
   "name": "python3"
  },
  "language_info": {
   "codemirror_mode": {
    "name": "ipython",
    "version": 3
   },
   "file_extension": ".py",
   "mimetype": "text/x-python",
   "name": "python",
   "nbconvert_exporter": "python",
   "pygments_lexer": "ipython3",
   "version": "3.10.11"
  }
 },
 "nbformat": 4,
 "nbformat_minor": 5
}
